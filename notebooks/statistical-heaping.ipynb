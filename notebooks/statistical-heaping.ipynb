{
 "cells": [
  {
   "cell_type": "markdown",
   "metadata": {},
   "source": [
    "# Some evidence of statistical heaping in the review scores.\n",
    "\n",
    "\n",
    "Awhile back I read a [really cool blog post](https://gutterstats.wordpress.com/2015/11/03/are-nfl-officials-biased-with-their-ball-placement/) about bias in decisions about the line of scrimmage in American Football. The post reported that NFL officials tend to place the line of scrimmage at tidy yard numbers (i.e., 10s and 5s) more often than at less-tidy numbers (e.g., 4s and 6s). The technical term for this is [statistical heaping](http://ww2.amstat.org/sections/SRMS/Proceedings/y1958/Patterns%20Of%20Heaping%20In%20The%20Reporting%20Of%20Numerical%20Data.pdf), and its observed commonly in survey data.\n",
    "\n",
    "\n",
    "Recently, I have been thinking about whether a similar principle is at work when reviewers assign a score to an album. My guess is that authors usually have  a _general_ sense of the album's score, but they need to pick a _specific_ value (Is this a 7.8? 7.9? 7.7?). In this notebook, I'll just quickly establish the presence of statistical heaping in the review data."
   ]
  },
  {
   "cell_type": "markdown",
   "metadata": {},
   "source": [
    "## Loading libraries and data..."
   ]
  },
  {
   "cell_type": "code",
   "execution_count": 6,
   "metadata": {
    "collapsed": false
   },
   "outputs": [
    {
     "data": {
      "text/html": [
       "TRUE"
      ],
      "text/latex": [
       "TRUE"
      ],
      "text/markdown": [
       "TRUE"
      ],
      "text/plain": [
       "[1] TRUE"
      ]
     },
     "metadata": {},
     "output_type": "display_data"
    },
    {
     "name": "stdout",
     "output_type": "stream",
     "text": [
      "[1] \"SCORES SUMMARY\"\n"
     ]
    },
    {
     "data": {
      "text/plain": [
       "     score       \n",
       " Min.   : 0.000  \n",
       " 1st Qu.: 6.400  \n",
       " Median : 7.200  \n",
       " Mean   : 7.006  \n",
       " 3rd Qu.: 7.800  \n",
       " Max.   :10.000  "
      ]
     },
     "metadata": {},
     "output_type": "display_data"
    },
    {
     "name": "stdout",
     "output_type": "stream",
     "text": [
      "[1] \"SCORES STANDARD DEV\"\n"
     ]
    },
    {
     "data": {
      "text/html": [
       "1.29367450215408"
      ],
      "text/latex": [
       "1.29367450215408"
      ],
      "text/markdown": [
       "1.29367450215408"
      ],
      "text/plain": [
       "[1] 1.293675"
      ]
     },
     "metadata": {},
     "output_type": "display_data"
    }
   ],
   "source": [
    "rm(list=ls())\n",
    "\n",
    "library(sqldf)\n",
    "library(ggplot2)\n",
    "\n",
    "con = dbConnect(SQLite(), dbname=\"../pitchfork.db\")\n",
    "scores = dbGetQuery( con, 'SELECT score FROM reviews')\n",
    "dbDisconnect(con)\n",
    "\n",
    "print('SCORES SUMMARY')\n",
    "summary(scores)\n",
    "\n",
    "print('SCORES STANDARD DEV')\n",
    "sd(scores$score)"
   ]
  },
  {
   "cell_type": "markdown",
   "metadata": {},
   "source": [
    "## Models\n",
    "\n",
    "If there is _no_ statistical heaping in the data, then \"round\" scores, such as 7.0 and 8.0, should not be more frequently chosen than alternatives (such as 7.1 or 7.9). I'll define two models which characterize what ought to happen, assuming no bias: a _Uniform_ model and a _Normal_ model.\n",
    "\n",
    "### Uniform Model\n",
    "\n",
    "This model proposes that reviewers draw each score at random, uniformly between 0.0 and 10.0:\n",
    "\n",
    "$$\n",
    "score = uniform(0.0, 10.0)\n",
    "$$\n",
    "\n",
    "This is not a very plausible model because we _know_ scores are not uniformly distributed. But it's still worth considering for this issue (I think). Under this model, each score is equally probable, and so each decimal place ( \\*.0, \\*.1) is also equally likely. The only kink is that \\*.0 is a little more probable because 10.0 is a possibility but 10.1-10.9 are not.\n",
    "\n",
    "### Normal Model\n",
    "\n",
    "This model is based on the observation that scores are (roughly) normally distributed, with $\\mu=7.006$ and $\\sigma=1.294$:\n",
    "\n",
    "$$\n",
    "score = normal(\\mu=7.006, \\sigma=1.294)\n",
    "$$\n",
    "\n",
    "Obviously, under this model, scores around 7.0 are the most probable.\n",
    "\n",
    "## Analysis\n",
    "\n",
    "I'm basically going to count the number of reviews with scores ending at each decimal place, and compare that to what we'd expect under both models. Simple? Let's go!"
   ]
  },
  {
   "cell_type": "code",
   "execution_count": 2,
   "metadata": {
    "collapsed": false
   },
   "outputs": [
    {
     "data": {
      "text/html": [
       "<table>\n",
       "<thead><tr><th scope=col>decimal</th><th scope=col>count</th></tr></thead>\n",
       "<tbody>\n",
       "\t<tr><td>0   </td><td>2776</td></tr>\n",
       "\t<tr><td>0.1 </td><td>1392</td></tr>\n",
       "\t<tr><td>0.2 </td><td>1749</td></tr>\n",
       "\t<tr><td>0.3 </td><td>1602</td></tr>\n",
       "\t<tr><td>0.4 </td><td>1723</td></tr>\n",
       "\t<tr><td>0.5 </td><td>2049</td></tr>\n",
       "\t<tr><td>0.6 </td><td>1571</td></tr>\n",
       "\t<tr><td>0.7 </td><td>1662</td></tr>\n",
       "\t<tr><td>0.8 </td><td>2151</td></tr>\n",
       "\t<tr><td>0.9 </td><td>1718</td></tr>\n",
       "</tbody>\n",
       "</table>\n"
      ],
      "text/latex": [
       "\\begin{tabular}{r|ll}\n",
       " decimal & count\\\\\n",
       "\\hline\n",
       "\t 0    & 2776\\\\\n",
       "\t 0.1  & 1392\\\\\n",
       "\t 0.2  & 1749\\\\\n",
       "\t 0.3  & 1602\\\\\n",
       "\t 0.4  & 1723\\\\\n",
       "\t 0.5  & 2049\\\\\n",
       "\t 0.6  & 1571\\\\\n",
       "\t 0.7  & 1662\\\\\n",
       "\t 0.8  & 2151\\\\\n",
       "\t 0.9  & 1718\\\\\n",
       "\\end{tabular}\n"
      ],
      "text/markdown": [
       "\n",
       "decimal | count | \n",
       "|---|---|---|---|---|---|---|---|---|---|\n",
       "| 0    | 2776 | \n",
       "| 0.1  | 1392 | \n",
       "| 0.2  | 1749 | \n",
       "| 0.3  | 1602 | \n",
       "| 0.4  | 1723 | \n",
       "| 0.5  | 2049 | \n",
       "| 0.6  | 1571 | \n",
       "| 0.7  | 1662 | \n",
       "| 0.8  | 2151 | \n",
       "| 0.9  | 1718 | \n",
       "\n",
       "\n"
      ],
      "text/plain": [
       "   decimal count\n",
       "1  0       2776 \n",
       "2  0.1     1392 \n",
       "3  0.2     1749 \n",
       "4  0.3     1602 \n",
       "5  0.4     1723 \n",
       "6  0.5     2049 \n",
       "7  0.6     1571 \n",
       "8  0.7     1662 \n",
       "9  0.8     2151 \n",
       "10 0.9     1718 "
      ]
     },
     "metadata": {},
     "output_type": "display_data"
    }
   ],
   "source": [
    "# ----- Get observed counts\n",
    "# the rounding is due to a weird issue with the mod operator,\n",
    "# some scores have a mod of like 0.00000002003 or something nutty.\n",
    "value = round(as.vector(scores$score) %% 1.0, 1) \n",
    "observed = as.data.frame(table(value))\n",
    "colnames(observed) <- c('decimal','count')\n",
    "observed"
   ]
  },
  {
   "cell_type": "code",
   "execution_count": 3,
   "metadata": {
    "collapsed": false
   },
   "outputs": [
    {
     "data": {
      "text/html": [
       "<table>\n",
       "<thead><tr><th scope=col>decimal</th><th scope=col>count</th><th scope=col>proportion</th></tr></thead>\n",
       "<tbody>\n",
       "\t<tr><td>0        </td><td>2003.198 </td><td>0.1089109</td></tr>\n",
       "\t<tr><td>0.1      </td><td>1821.089 </td><td>0.0990099</td></tr>\n",
       "\t<tr><td>0.2      </td><td>1821.089 </td><td>0.0990099</td></tr>\n",
       "\t<tr><td>0.3      </td><td>1821.089 </td><td>0.0990099</td></tr>\n",
       "\t<tr><td>0.4      </td><td>1821.089 </td><td>0.0990099</td></tr>\n",
       "\t<tr><td>0.5      </td><td>1821.089 </td><td>0.0990099</td></tr>\n",
       "\t<tr><td>0.6      </td><td>1821.089 </td><td>0.0990099</td></tr>\n",
       "\t<tr><td>0.7      </td><td>1821.089 </td><td>0.0990099</td></tr>\n",
       "\t<tr><td>0.8      </td><td>1821.089 </td><td>0.0990099</td></tr>\n",
       "\t<tr><td>0.9      </td><td>1821.089 </td><td>0.0990099</td></tr>\n",
       "</tbody>\n",
       "</table>\n"
      ],
      "text/latex": [
       "\\begin{tabular}{r|lll}\n",
       " decimal & count & proportion\\\\\n",
       "\\hline\n",
       "\t 0         & 2003.198  & 0.1089109\\\\\n",
       "\t 0.1       & 1821.089  & 0.0990099\\\\\n",
       "\t 0.2       & 1821.089  & 0.0990099\\\\\n",
       "\t 0.3       & 1821.089  & 0.0990099\\\\\n",
       "\t 0.4       & 1821.089  & 0.0990099\\\\\n",
       "\t 0.5       & 1821.089  & 0.0990099\\\\\n",
       "\t 0.6       & 1821.089  & 0.0990099\\\\\n",
       "\t 0.7       & 1821.089  & 0.0990099\\\\\n",
       "\t 0.8       & 1821.089  & 0.0990099\\\\\n",
       "\t 0.9       & 1821.089  & 0.0990099\\\\\n",
       "\\end{tabular}\n"
      ],
      "text/markdown": [
       "\n",
       "decimal | count | proportion | \n",
       "|---|---|---|---|---|---|---|---|---|---|\n",
       "| 0         | 2003.198  | 0.1089109 | \n",
       "| 0.1       | 1821.089  | 0.0990099 | \n",
       "| 0.2       | 1821.089  | 0.0990099 | \n",
       "| 0.3       | 1821.089  | 0.0990099 | \n",
       "| 0.4       | 1821.089  | 0.0990099 | \n",
       "| 0.5       | 1821.089  | 0.0990099 | \n",
       "| 0.6       | 1821.089  | 0.0990099 | \n",
       "| 0.7       | 1821.089  | 0.0990099 | \n",
       "| 0.8       | 1821.089  | 0.0990099 | \n",
       "| 0.9       | 1821.089  | 0.0990099 | \n",
       "\n",
       "\n"
      ],
      "text/plain": [
       "   decimal count    proportion\n",
       "1  0       2003.198 0.1089109 \n",
       "2  0.1     1821.089 0.0990099 \n",
       "3  0.2     1821.089 0.0990099 \n",
       "4  0.3     1821.089 0.0990099 \n",
       "5  0.4     1821.089 0.0990099 \n",
       "6  0.5     1821.089 0.0990099 \n",
       "7  0.6     1821.089 0.0990099 \n",
       "8  0.7     1821.089 0.0990099 \n",
       "9  0.8     1821.089 0.0990099 \n",
       "10 0.9     1821.089 0.0990099 "
      ]
     },
     "metadata": {},
     "output_type": "display_data"
    }
   ],
   "source": [
    "# ----- Compute expected values assuming uniform choices\n",
    "uniform = as.data.frame(table(round(seq(0,10,0.1) %% 1.0,1)))\n",
    "colnames(uniform) = c('decimal','count')\n",
    "uniform$proportion = uniform$count / sum(uniform$count)\n",
    "uniform$count = uniform$proportion * sum(observed$count)\n",
    "uniform"
   ]
  },
  {
   "cell_type": "code",
   "execution_count": 4,
   "metadata": {
    "collapsed": false
   },
   "outputs": [
    {
     "data": {
      "text/html": [
       "<table>\n",
       "<thead><tr><th scope=col>decimal</th><th scope=col>proportion</th><th scope=col>count</th></tr></thead>\n",
       "<tbody>\n",
       "\t<tr><td>0.0       </td><td>0.10065429</td><td>1851.334  </td></tr>\n",
       "\t<tr><td>0.1       </td><td>0.09893412</td><td>1819.695  </td></tr>\n",
       "\t<tr><td>0.2       </td><td>0.09928866</td><td>1826.216  </td></tr>\n",
       "\t<tr><td>0.3       </td><td>0.09958802</td><td>1831.722  </td></tr>\n",
       "\t<tr><td>0.4       </td><td>0.09983921</td><td>1836.343  </td></tr>\n",
       "\t<tr><td>0.5       </td><td>0.10004867</td><td>1840.195  </td></tr>\n",
       "\t<tr><td>0.6       </td><td>0.10022226</td><td>1843.388  </td></tr>\n",
       "\t<tr><td>0.7       </td><td>0.10036521</td><td>1846.017  </td></tr>\n",
       "\t<tr><td>0.8       </td><td>0.10048221</td><td>1848.169  </td></tr>\n",
       "\t<tr><td>0.9       </td><td>0.10057736</td><td>1849.919  </td></tr>\n",
       "</tbody>\n",
       "</table>\n"
      ],
      "text/latex": [
       "\\begin{tabular}{r|lll}\n",
       " decimal & proportion & count\\\\\n",
       "\\hline\n",
       "\t 0.0        & 0.10065429 & 1851.334  \\\\\n",
       "\t 0.1        & 0.09893412 & 1819.695  \\\\\n",
       "\t 0.2        & 0.09928866 & 1826.216  \\\\\n",
       "\t 0.3        & 0.09958802 & 1831.722  \\\\\n",
       "\t 0.4        & 0.09983921 & 1836.343  \\\\\n",
       "\t 0.5        & 0.10004867 & 1840.195  \\\\\n",
       "\t 0.6        & 0.10022226 & 1843.388  \\\\\n",
       "\t 0.7        & 0.10036521 & 1846.017  \\\\\n",
       "\t 0.8        & 0.10048221 & 1848.169  \\\\\n",
       "\t 0.9        & 0.10057736 & 1849.919  \\\\\n",
       "\\end{tabular}\n"
      ],
      "text/markdown": [
       "\n",
       "decimal | proportion | count | \n",
       "|---|---|---|---|---|---|---|---|---|---|\n",
       "| 0.0        | 0.10065429 | 1851.334   | \n",
       "| 0.1        | 0.09893412 | 1819.695   | \n",
       "| 0.2        | 0.09928866 | 1826.216   | \n",
       "| 0.3        | 0.09958802 | 1831.722   | \n",
       "| 0.4        | 0.09983921 | 1836.343   | \n",
       "| 0.5        | 0.10004867 | 1840.195   | \n",
       "| 0.6        | 0.10022226 | 1843.388   | \n",
       "| 0.7        | 0.10036521 | 1846.017   | \n",
       "| 0.8        | 0.10048221 | 1848.169   | \n",
       "| 0.9        | 0.10057736 | 1849.919   | \n",
       "\n",
       "\n"
      ],
      "text/plain": [
       "   decimal proportion count   \n",
       "1  0.0     0.10065429 1851.334\n",
       "2  0.1     0.09893412 1819.695\n",
       "3  0.2     0.09928866 1826.216\n",
       "4  0.3     0.09958802 1831.722\n",
       "5  0.4     0.09983921 1836.343\n",
       "6  0.5     0.10004867 1840.195\n",
       "7  0.6     0.10022226 1843.388\n",
       "8  0.7     0.10036521 1846.017\n",
       "9  0.8     0.10048221 1848.169\n",
       "10 0.9     0.10057736 1849.919"
      ]
     },
     "metadata": {},
     "output_type": "display_data"
    }
   ],
   "source": [
    "# ----- compute expected values assuming normal choices\n",
    "x = seq(0,10,0.1)\n",
    "m = mean(scores$score)\n",
    "s = sd(scores$score)\n",
    "density = dnorm(x, mean = m, sd = s)\n",
    "p = density / sum(density)\n",
    "idx = round(x %% 1.0,1)\n",
    "normal = data.frame(list(score = x, decimal = idx, prob = p))\n",
    "normal = aggregate(normal$prob, by=list(normal$decimal), FUN=sum)\n",
    "colnames(normal) = c('decimal','proportion')\n",
    "normal$count = normal$proportion * sum(observed$count)\n",
    "normal"
   ]
  },
  {
   "cell_type": "markdown",
   "metadata": {},
   "source": [
    "## Plotting"
   ]
  },
  {
   "cell_type": "code",
   "execution_count": 5,
   "metadata": {
    "collapsed": false
   },
   "outputs": [
    {
     "data": {
      "image/png": "[encoded data removed]",
      "text/plain": [
       "plot without title"
      ]
     },
     "metadata": {},
     "output_type": "display_data"
    }
   ],
   "source": [
    "# get x ticks !\n",
    "xticklabs = character()\n",
    "for (i in 0:9) {\n",
    "\txticklabs = c(xticklabs, paste0('*.',toString(i)))\n",
    "}\n",
    "\n",
    "plot = ggplot(NULL, aes(x = decimal, y = count)) + \n",
    "\tgeom_bar(data = observed, stat = 'identity', colour = '#004D40' , fill = '#004D40') + \n",
    "\tgeom_point(data = uniform, aes(colour = 'Uniform Sampling'), \n",
    "\t\tstroke = 1.25, size = 4, shape = 23) + \n",
    "\tgeom_point(data = normal, aes(x = 1:10, colour = 'Normal Sampling   '), \n",
    "\t\tstroke = 1.25, size = 6, shape = 23) + \n",
    "\tylab(\"Number of Reviews\") +\n",
    "\tscale_y_continuous(breaks = seq(from=0,to=3000,by=500)) +\n",
    "\tscale_x_discrete(breaks=observed$decimal, labels=xticklabs) +\n",
    "\ttheme_bw(base_size = 10) +\n",
    "\ttheme(\n",
    "\t\taxis.title.x=element_blank(),\n",
    "\t\tpanel.grid.major.x = element_blank(),\n",
    "\t\tlegend.direction=\"horizontal\", \n",
    "\t\tlegend.title = element_blank(),\n",
    "\t  \tlegend.position = c(0.5, 0.9),\n",
    "\t  \tpanel.grid.minor.y = element_blank(),\n",
    "\t  \taxis.text.x  = element_text(size=10),\n",
    "\t  ) + \n",
    "\tscale_colour_manual(values=c(\"#009688\", \"#FFB300\"))\n",
    "print(plot)"
   ]
  },
  {
   "cell_type": "markdown",
   "metadata": {},
   "source": [
    "## Results\n",
    "\n",
    "Obviously, \\*.0 is selected _far_ more often than you'd expect if scoring was unbiased. I think this is pretty strong evidence of statistical heaping!"
   ]
  }
 ],
 "metadata": {
  "kernelspec": {
   "display_name": "R",
   "language": "R",
   "name": "ir"
  },
  "language_info": {
   "codemirror_mode": "r",
   "file_extension": ".r",
   "mimetype": "text/x-r-source",
   "name": "R",
   "pygments_lexer": "r",
   "version": "3.3.1"
  }
 },
 "nbformat": 4,
 "nbformat_minor": 2
}
